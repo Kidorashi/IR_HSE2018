{
 "cells": [
  {
   "cell_type": "markdown",
   "metadata": {},
   "source": [
    "# Семинар 5    \n",
    "## Собираем поисковик \n",
    "\n",
    "![](https://bilimfili.com/wp-content/uploads/2017/06/bir-urune-emek-vermek-o-urune-olan-deger-algimizi-degistirir-mi-bilimfilicom.jpg) \n",
    "\n",
    "\n",
    "Мы уже все знаем, для того чтобы сделать поисковик. Осталось соединить все части вместе.    \n",
    "Итак, для поисковика нам понадобятся:         \n",
    "**1. База документов **\n",
    "> в первом дз - корпус Друзей    \n",
    "в сегодняшнем дз - корпус юридических вопросов-ответов    \n",
    "в итоговом проекте - корпус Авито   \n",
    "\n",
    "**2. Функция индексации**                 \n",
    "Что делает: собирает информацию о корпусе, по которуму будет происходить поиск      \n",
    "Своя для каждого поискового метода:       \n",
    "> A. для обратного индекса она создает обратный индекс (чудо) и сохраняет статистики корпуса, необходимые для Okapi BM25 (средняя длина документа в коллекции, количество доков ... )             \n",
    "> B. для поиска через word2vec эта функция создает вектор для каждого документа в коллекции путем, например, усреднения всех векторов коллекции       \n",
    "> C. для поиска через doc2vec эта функция создает вектор для каждого документа               \n",
    "\n",
    "   Не забывайте сохранить все, что насчитает эта функция. Если это будет происходить налету во время поиска, понятно, что он будет работать сто лет     \n",
    "   \n",
    "**3. Функция поиска**     \n",
    "Можно разделить на две части:\n",
    "1. функция вычисления близости между запросом и документом    \n",
    "> 1. для индекса это Okapi BM25\n",
    "> 2. для w2v и d2v это обычная косинусная близость между векторами          \n",
    "2. ранжирование (или просто сортировка)\n",
    "\n",
    "\n",
    "Время все это реализовать."
   ]
  },
  {
   "cell_type": "markdown",
   "metadata": {},
   "source": [
    "# Индексация\n",
    "## Word2Vec\n",
    "### Задание 1\n",
    "Загрузите любую понравившуюся вам word2vec модель"
   ]
  },
  {
   "cell_type": "code",
   "execution_count": 1,
   "metadata": {},
   "outputs": [
    {
     "name": "stderr",
     "output_type": "stream",
     "text": [
      "C:\\Users\\1\\Anaconda3\\lib\\site-packages\\gensim\\utils.py:1212: UserWarning: detected Windows; aliasing chunkize to chunkize_serial\n",
      "  warnings.warn(\"detected Windows; aliasing chunkize to chunkize_serial\")\n"
     ]
    }
   ],
   "source": [
    "#from gensim.test.utils import common_texts, get_tmpfile\n",
    "from gensim.models import Word2Vec, KeyedVectors\n",
    "import re\n",
    "import os\n",
    "from tqdm import tqdm_notebook as tqdm\n",
    "import pymorphy2\n",
    "\n",
    "from gensim.models.doc2vec import Doc2Vec, TaggedDocument, TaggedLineDocument\n",
    "from nltk.tokenize import word_tokenize\n",
    "import nltk\n",
    "import pickle\n",
    "\n",
    "import numpy as np\n",
    "import json\n",
    "\n",
    "import operator"
   ]
  },
  {
   "cell_type": "code",
   "execution_count": 11,
   "metadata": {
    "collapsed": true
   },
   "outputs": [],
   "source": [
    "def preprocessing(pars):\n",
    "    for i in range(0, len(pars)):\n",
    "        pars[i] = pars[i].replace('.', ' ')\n",
    "        pars[i] = pars[i].replace(',', ' ')\n",
    "        pars[i] = pars[i].replace(':', ' ')\n",
    "        pars[i] = pars[i].replace(';', ' ')\n",
    "        pars[i] = pars[i].replace('-', ' ')\n",
    "        pars[i] = pars[i].replace(')', ' ')\n",
    "        pars[i] = pars[i].replace('(', ' ')\n",
    "        pars[i] = pars[i].replace('\\\\', ' ')\n",
    "        pars[i] = pars[i].replace('/', ' ')\n",
    "        pars[i] = pars[i].replace('\"', ' ')\n",
    "        pars[i] = pars[i].replace('!', ' ')\n",
    "        pars[i] = pars[i].replace('?', ' ')\n",
    "        pars[i] = pars[i].replace('\\n', ' ')\n",
    "        pars[i] = re.sub('[0-9]','', pars[i])\n",
    "        pars[i] = pars[i].replace('   ', ' ')\n",
    "        pars[i] = pars[i].replace('  ', ' ')\n",
    "        pars[i] = pars[i].strip(' ')\n",
    "    return pars"
   ]
  },
  {
   "cell_type": "code",
   "execution_count": 13,
   "metadata": {
    "collapsed": true
   },
   "outputs": [],
   "source": [
    "model_path = r\"C:\\Users\\1\\Downloads\\all.norm-sz100-w10-cb0-it1-min100.w2v\"\n",
    "model = KeyedVectors.load_word2vec_format(model_path, binary=True, unicode_errors='ignore')"
   ]
  },
  {
   "cell_type": "markdown",
   "metadata": {},
   "source": [
    "### Задание 2 \n",
    "Напишите функцию индексации для поиска через word2vec. Она должна для каждого документа из корпуса строить вектор.   \n",
    "Все вектора надо сохранить, по формату советую json. При сохранении не забывайте, что вам надо сохранить не только  вектор, но и опознователь текста, которому он принадлежит. \n",
    "Для поисковика это может быть url страницы, для поиска по текстовому корпусу сам текст.\n",
    "\n",
    "> В качестве документа для word2vec берите **параграфы** исходного текста, а не весь текст целиком. Так вектора будут более осмысленными. В противном случае можно получить один очень общий вектор, релевантый совершенно разным запросам."
   ]
  },
  {
   "cell_type": "code",
   "execution_count": 3,
   "metadata": {
    "collapsed": true
   },
   "outputs": [],
   "source": [
    "path = 'C:\\\\Users\\\\1\\\\Downloads\\\\Telegram Desktop\\\\articles\\\\article'"
   ]
  },
  {
   "cell_type": "code",
   "execution_count": 7,
   "metadata": {
    "collapsed": true
   },
   "outputs": [],
   "source": [
    "def make_pars(path):\n",
    "    file = open(path, 'r', encoding = 'UTF-8')\n",
    "    f = file.read()\n",
    "    file.close()\n",
    "    f = f+'. '\n",
    "    f = f.lower()\n",
    "    pars = re.findall('.*?[^А-Я|г]\\. ', f)\n",
    "    pars = preprocessing(pars) \n",
    "    return pars"
   ]
  },
  {
   "cell_type": "code",
   "execution_count": 5,
   "metadata": {
    "collapsed": true
   },
   "outputs": [],
   "source": [
    "def par_t_v(par):\n",
    "    vecs = np.zeros(100)\n",
    "    par = list(filter(None, par.split(' ')))\n",
    "    for word in par:\n",
    "        try:\n",
    "            vec = model.get_vector(word)\n",
    "        except Exception as ex:\n",
    "            print(ex)\n",
    "            continue\n",
    "        if vecs.size is 0:\n",
    "            vecs = vec\n",
    "        else:\n",
    "            vecs = vecs+vec\n",
    "    vec = vecs/len(par)\n",
    "    return vec"
   ]
  },
  {
   "cell_type": "code",
   "execution_count": 111,
   "metadata": {
    "collapsed": true
   },
   "outputs": [],
   "source": [
    "def write_json(pars_and_vecs, global_num):\n",
    "    p = r'C:\\Users\\1\\Downloads\\Telegram Desktop\\articles\\json\\all_json_w2v_' + str(global_num) +'.txt'\n",
    "    with open(p, 'w') as f:\n",
    "        json.dump(pars_and_vecs, f)\n",
    "    return"
   ]
  },
  {
   "cell_type": "code",
   "execution_count": 110,
   "metadata": {
    "collapsed": true
   },
   "outputs": [],
   "source": [
    "def get_w2v_vectors(path):\n",
    "    pars = make_pars(path)\n",
    "    pars_and_vecs = []\n",
    "    for i in range(0, len(pars)):\n",
    "        vec_par = par_t_v(pars[i])\n",
    "        pars_and_vecs.append(vec_par.tolist())\n",
    "    return pars_and_vecs"
   ]
  },
  {
   "cell_type": "code",
   "execution_count": null,
   "metadata": {
    "collapsed": true
   },
   "outputs": [],
   "source": [
    "global_dict = {}\n",
    "global_num = 0\n",
    "path = r\"C:\\Users\\1\\Downloads\\Telegram Desktop\\articles\\article\"\n",
    "for idx in tqdm(range(1, 2001)):\n",
    "    path_file=path+\"\\\\\"+str(idx)+'.txt'\n",
    "    if os.path.isfile(path_file):\n",
    "        global_dict[str(idx)] = get_w2v_vectors(path_file)\n",
    "        \n",
    "    if idx%100 is 0:\n",
    "        global_num+=1\n",
    "        write_json(global_dict, global_num)\n",
    "        global_dict = {} "
   ]
  },
  {
   "cell_type": "markdown",
   "metadata": {},
   "source": [
    "## Doc2Vec\n",
    "### Задание 3\n",
    "Напишите функцию обучения doc2vec на юридических текстах, и получите свою кастомную d2v модель. \n",
    "> Совет: есть мнение, что для обучения doc2vec модели не нужно удалять стоп-слова из корпуса. Они являются важными семантическими элементами.      \n",
    "\n",
    "Важно! В качестве документа для doc2vec берите **параграфы** исходного текста, а не весь текст целиком. И не забывайте про предобработку."
   ]
  },
  {
   "cell_type": "markdown",
   "metadata": {},
   "source": [
    "У меня были какие-то проблемы с обучением модели. Она обучалась только на очень маленьких эпохах. На 150 простояла два дня, но так и недообучилась. Поэтому взяла вашу модель."
   ]
  },
  {
   "cell_type": "code",
   "execution_count": 4,
   "metadata": {},
   "outputs": [],
   "source": [
    "model_d = Doc2Vec.load('Doc2Vec_100s_1000e')"
   ]
  },
  {
   "cell_type": "code",
   "execution_count": 5,
   "metadata": {},
   "outputs": [
    {
     "data": {
      "text/plain": [
       "array([-0.4282251 ,  0.23708375, -0.45930117,  0.10611931,  0.62889421,\n",
       "        0.1196252 , -0.02407027,  0.45586878,  0.4159039 , -0.12778939,\n",
       "       -0.00203439, -0.07862893,  0.62620658, -0.12105814,  0.10052878,\n",
       "       -0.12932751,  0.18158963,  0.25525215, -0.532444  ,  0.0990846 ,\n",
       "        0.10783657,  0.59053999,  0.02449054, -0.21601641,  0.39617512,\n",
       "       -0.11783301,  0.01439113,  0.31621888,  0.27657464, -0.13583528,\n",
       "       -0.0075618 , -0.02023337,  0.14193198,  0.01083831,  0.18012066,\n",
       "        0.10876582, -0.20693055,  0.19861947,  0.09373802, -0.23966387,\n",
       "        0.04996694,  0.54767364, -0.33492318, -0.40149394, -0.15552157,\n",
       "       -0.18683743,  0.07880542, -0.51807427,  0.30847964, -0.05967191,\n",
       "       -0.03973081,  0.34769812,  0.15159838,  0.18458614, -0.13132106,\n",
       "        0.2101123 , -0.62978256, -0.27266434, -0.11287375,  0.38861862,\n",
       "        0.17073986, -0.10981907, -0.17872557, -0.40869817,  0.36989751,\n",
       "       -0.44914404, -0.02076871, -0.33414879, -0.22244197,  0.40515488,\n",
       "        0.08895895, -0.29393569, -0.02503087, -0.15115234,  0.39129704,\n",
       "       -0.06121451,  0.3061974 , -0.03861048,  0.05033722,  0.23147832,\n",
       "       -0.63043731, -0.27981105,  0.42808706,  0.12750812,  0.15566164,\n",
       "        0.25700623, -0.69479805,  0.04876675,  0.06816821,  0.23268683,\n",
       "       -0.09365252,  0.32146075,  0.42925888, -0.14190897, -0.15787069,\n",
       "       -0.19048016,  0.06291503, -0.1982697 ,  0.22513074,  0.51656574], dtype=float32)"
      ]
     },
     "execution_count": 5,
     "metadata": {},
     "output_type": "execute_result"
    }
   ],
   "source": [
    "vector = model_d.infer_vector([\"ходатайство\"])\n",
    "vector"
   ]
  },
  {
   "cell_type": "markdown",
   "metadata": {},
   "source": [
    "### Задание 4\n",
    "Напишите функцию индексации для поиска через doc2vec. Она должна для каждого документа из корпуса получать вектор.    \n",
    "Все вектора надо сохранить, по формату советую json. При сохранении не забывайте, что вам надо сохранить не только вектор, но и опознователь текста, которому он принадлежит. "
   ]
  },
  {
   "cell_type": "code",
   "execution_count": 6,
   "metadata": {
    "collapsed": true
   },
   "outputs": [],
   "source": [
    "def make_pars(path):\n",
    "    file = open(path, 'r', encoding = 'UTF-8')\n",
    "    f = file.read()\n",
    "    file.close()\n",
    "    f = f+'. '\n",
    "    f = f.lower()\n",
    "    pars = re.findall('.*?[^А-Я|г]\\. ', f)\n",
    "    pars = preprocessing(pars) \n",
    "    return pars"
   ]
  },
  {
   "cell_type": "code",
   "execution_count": 7,
   "metadata": {
    "collapsed": true
   },
   "outputs": [],
   "source": [
    "def doc_t_v(par):\n",
    "    vec = np.zeros(100)\n",
    "    try:\n",
    "        vec = model_d.infer_vector(par)\n",
    "    except Exception as ex:\n",
    "        print(ex)\n",
    "    return vec"
   ]
  },
  {
   "cell_type": "code",
   "execution_count": 8,
   "metadata": {
    "collapsed": true
   },
   "outputs": [],
   "source": [
    "def get_d2v_vectors(path):\n",
    "    pars = make_pars(path)\n",
    "    pars_and_vecs = []\n",
    "    for i in range(0, len(pars)):\n",
    "        vec_par = doc_t_v(pars[i])\n",
    "        pars_and_vecs.append(vec_par.tolist())\n",
    "    return pars_and_vecs"
   ]
  },
  {
   "cell_type": "code",
   "execution_count": 9,
   "metadata": {
    "collapsed": true
   },
   "outputs": [],
   "source": [
    "def write_json_d(pars_and_vecs, global_num):\n",
    "    p = r'C:\\Users\\1\\Downloads\\Telegram Desktop\\articles\\json\\all_json_d2v_' + str(global_num) +'.txt'\n",
    "    with open(p, 'w') as f:\n",
    "        json.dump(pars_and_vecs, f)\n",
    "    return"
   ]
  },
  {
   "cell_type": "code",
   "execution_count": 12,
   "metadata": {},
   "outputs": [
    {
     "data": {
      "application/vnd.jupyter.widget-view+json": {
       "model_id": "b4b80c13e11b4ea78a8a811616188c30",
       "version_major": 2,
       "version_minor": 0
      },
      "text/plain": [
       "A Jupyter Widget"
      ]
     },
     "metadata": {},
     "output_type": "display_data"
    },
    {
     "name": "stdout",
     "output_type": "stream",
     "text": [
      "\n"
     ]
    }
   ],
   "source": [
    "global_dict = {}\n",
    "global_num = 0\n",
    "path = r\"C:\\Users\\1\\Downloads\\Telegram Desktop\\articles\\article\"\n",
    "for idx in tqdm(range(1, 2001)):\n",
    "    path_file=path+\"\\\\\"+str(idx)+'.txt'\n",
    "    if os.path.isfile(path_file):\n",
    "        global_dict[str(idx)] = get_d2v_vectors(path_file)\n",
    "        \n",
    "    if idx%100 is 0:\n",
    "        global_num+=1\n",
    "        write_json_d(global_dict, global_num)\n",
    "        global_dict = {} "
   ]
  },
  {
   "cell_type": "markdown",
   "metadata": {},
   "source": [
    "# Функция поиска"
   ]
  },
  {
   "cell_type": "markdown",
   "metadata": {},
   "source": [
    "### Задание 5\n",
    "Напишите функцию для поиска через word2vec и для поиска через doc2vec, которая по входящему запросу выдает отсортированную выдачу документов."
   ]
  },
  {
   "cell_type": "code",
   "execution_count": 58,
   "metadata": {
    "collapsed": true
   },
   "outputs": [],
   "source": [
    "def search_w2v(query):\n",
    "    query = preprocessing(query.lower().split())\n",
    "    query_vec = np.zeros(100)\n",
    "    for word in query:\n",
    "        vec = model.get_vector(word)\n",
    "        query_vec += vec\n",
    "    query_vec = query_vec / len(query)\n",
    "    path = r\"C:\\Users\\1\\Downloads\\Telegram Desktop\\articles\\json\\all_json_w2v_\"\n",
    "    doc2similar = {}\n",
    "    for idx in tqdm(range(1, 21)):\n",
    "        with open(path + str(idx) + \".txt\") as f:\n",
    "            doc = json.load(f)\n",
    "        for key, value in doc.items():\n",
    "            doc2similar[key] = max(model.cosine_similarities(query_vec, [np.array(item) for item in value]))\n",
    "    \n",
    "\n",
    "    sorted_dict = sorted(doc2similar.items(), key=operator.itemgetter(1), reverse=True)\n",
    "    num = sorted_dict[0][0]\n",
    "    path = r\"C:\\Users\\1\\Downloads\\Telegram Desktop\\articles\\article\\\\\"\n",
    "    with open(path + str(num) + \".txt\", encoding = \"UTF-8\") as f:\n",
    "        text = f.read()\n",
    "    return text"
   ]
  },
  {
   "cell_type": "code",
   "execution_count": 59,
   "metadata": {},
   "outputs": [
    {
     "data": {
      "application/vnd.jupyter.widget-view+json": {
       "model_id": "14a596916eb84d9fb3cc49ffe0e8b5af",
       "version_major": 2,
       "version_minor": 0
      },
      "text/plain": [
       "A Jupyter Widget"
      ]
     },
     "metadata": {},
     "output_type": "display_data"
    },
    {
     "name": "stderr",
     "output_type": "stream",
     "text": [
      "C:\\Users\\1\\Anaconda3\\lib\\site-packages\\gensim\\models\\keyedvectors.py:920: RuntimeWarning: invalid value encountered in true_divide\n",
      "  similarities = dot_products / (norm * all_norms)\n"
     ]
    },
    {
     "name": "stdout",
     "output_type": "stream",
     "text": [
      "\n"
     ]
    }
   ],
   "source": [
    "query = \"В  передаче дела по иску в части взыскания расходов, связанных с предоставлением льгот по оплате услуг отдельным категориям граждан, для пересмотра в порядке надзора судебных актов отказано, так как, удовлетворяя иск, суд исходил из того, что меры социальной поддержки, предусмотренные федеральными законами о социальной защите, являются расходными обязательствами Российской Федерации\"\n",
    "text = search_w2v(query)"
   ]
  },
  {
   "cell_type": "code",
   "execution_count": 60,
   "metadata": {},
   "outputs": [
    {
     "data": {
      "text/plain": [
       "'\\n\\nОпределение ВАС РФ от 22.12.2011 N ВАС-16916/11 по делу N А76-6807/2011  В  передаче дела по иску в части взыскания расходов, связанных с предоставлением льгот по оплате жилищно-коммунальных услуг отдельным категориям граждан, для пересмотра в порядке надзора судебных актов отказано, так как, удовлетворяя иск, суд исходил из того, что меры социальной поддержки, предусмотренные федеральными законами о социальной защите, являются расходными обязательствами Российской Федерации.'"
      ]
     },
     "execution_count": 60,
     "metadata": {},
     "output_type": "execute_result"
    }
   ],
   "source": [
    "text"
   ]
  },
  {
   "cell_type": "code",
   "execution_count": 14,
   "metadata": {
    "collapsed": true
   },
   "outputs": [],
   "source": [
    "def search_d2v(query):\n",
    "    query = preprocessing(query.lower().split())\n",
    "    query = ' '.join(query)\n",
    "    query_vec = np.zeros(100)\n",
    "    query_vec = model_d.infer_vector(query)\n",
    "\n",
    "    path = r\"C:\\Users\\1\\Downloads\\Telegram Desktop\\articles\\json\\all_json_d2v_\"\n",
    "    doc2similar = {}\n",
    "    for idx in tqdm(range(1, 21)):\n",
    "        with open(path + str(idx) + \".txt\") as f:\n",
    "            doc = json.load(f)\n",
    "        for key, value in doc.items():\n",
    "            doc2similar[key] = max(model.cosine_similarities(query_vec, [np.array(item) for item in value]))\n",
    "    \n",
    "\n",
    "    sorted_dict = sorted(doc2similar.items(), key=operator.itemgetter(1), reverse=True)\n",
    "    num = sorted_dict[0][0]\n",
    "    path = r\"C:\\Users\\1\\Downloads\\Telegram Desktop\\articles\\article\\\\\"\n",
    "    with open(path + str(num) + \".txt\", encoding = \"UTF-8\") as f:\n",
    "        text = f.read()\n",
    "    return text"
   ]
  },
  {
   "cell_type": "code",
   "execution_count": 15,
   "metadata": {},
   "outputs": [
    {
     "data": {
      "application/vnd.jupyter.widget-view+json": {
       "model_id": "1721b31f18ad4cc5a6c9287c21547408",
       "version_major": 2,
       "version_minor": 0
      },
      "text/plain": [
       "A Jupyter Widget"
      ]
     },
     "metadata": {},
     "output_type": "display_data"
    },
    {
     "name": "stdout",
     "output_type": "stream",
     "text": [
      "\n"
     ]
    }
   ],
   "source": [
    "query = \"В  передаче дела по иску в части взыскания расходов, связанных с предоставлением льгот по оплате услуг отдельным категориям граждан, для пересмотра в порядке надзора судебных актов отказано, так как, удовлетворяя иск, суд исходил из того, что меры социальной поддержки, предусмотренные федеральными законами о социальной защите, являются расходными обязательствами Российской Федерации\"\n",
    "text = search_d2v(query)"
   ]
  },
  {
   "cell_type": "code",
   "execution_count": 16,
   "metadata": {},
   "outputs": [
    {
     "data": {
      "text/plain": [
       "'\\n\\nКоллегия судей Высшего Арбитражного Суда Российской Федерации в составе председательствующего судьи Харчиковой Н.П., судей Бондаренко С.П.,  Марамышкиной  И.М. рассмотрела в судебном заседании заявление Государственной корпорации \"Банк развития и внешнеэкономической деятельности\" (Москва) от 21.11.2011 N 1380/050009 о пересмотре в порядке надзора решения Арбитражного суда города Москвы от 22.02.2011 по делу N А40-102283/10-120-420, постановления Девятого арбитражного апелляционного  суда от 12.05.2011 и постановления Федерального арбитражного суда Московского округа от 22.08.2011 по тому же делу по заявлению Самарской области в лице Министерства управления финансами Самарской области (г. Самара, далее - министерство управления финансами) о признании незаконным бездействия Государственной корпорации \"Банк развития и внешнеэкономической деятельности\" (Москва, далее - Внешэкономбанк), связанного с отказом осуществить полномочия, предусмотренные Порядком списания и восстановления в учете задолженности по денежным обязательствам перед федеральным бюджетом (Российской Федерацией), утвержденным Приказом Министерства финансов Российской Федерации от 02.08.2007  N 68н (далее - Порядок);  об  обязании  Внешэкономбанка осуществить полномочия, предусмотренные Порядком, осуществить в соответствии с Порядком сбор документов, подтверждающих прекращение обязательства Самарской области перед федеральным бюджетом по договору поручительства от 22.07.1997 N 239-1-2-2-П, заключенному между администрацией Самарской области, Внешэкономбанком - агентом Правительства Российской Федерации и Министерством финансов Российской Федерации (Москва, далее - Минфин России), и направить в Минфин России представление на списание с учета задолженности Самарской  области  по денежным обязательствам перед федеральным бюджетом по указанному договору поручительства с приложением подтверждающих документов в течение  месяца со дня вступления решения в законную силу. Суд установил: решением Арбитражного суда города Москвы от 22.02.2011, оставленным без изменений постановлением Девятого арбитражного апелляционного суда от 12.05.2011 и постановлением Федерального арбитражного суда Московского округа от 22.08.2011, требования министерства управления финансами удовлетворены. В заявлении о пересмотре названных судебных актов в порядке надзора Внешэкономбанк просит их отменить, ссылаясь на неправильную оценку судами представленных доказательств, а также допущенные нарушения норм материального и процессуального права. Изучив содержание принятых по делу судебных актов, доводы заявителя, коллегия судей Высшего Арбитражного Суда Российской Федерации считает, что заявление Внешэкономбанка подлежит отклонению по следующим основаниям. Как установлено судами, вступившими в законную силу решениями Арбитражного суда Самарской области от 08.02.2006 по делу N А55-8964/05-42 и Арбитражного суда города Москвы от 29.05.2006 по делу N А40-13939/06-84-98 обязательства по договору поручительства от 22.09.1997 N 239-1-2-2-П, заключенному между администрацией Самарской области, Внешэкономбанком и Минфином России в обеспечение возврата заемных средств за счет средств федерального бюджета в целях  закупки оборудования закрытого акционерного общества \"Завод \"ЖБИ-5\", признаны прекратившимися с 31.10.2003. На основании указанных судебных актов министерство управления финансами письмом от 25.02.2010 N МФ-13-13/290 обратилось во Внешэкономбанк, являющийся агентом Правительства Российской Федерации, с просьбой о реализации государственно-властных полномочий, предусмотренных Порядком, по направлению в Минфин России представления на списание с учета задолженности Самарской области перед федеральным бюджетом. Письмом от 05.04.2010 N 479/0500004 Внешэкономбанк отказал в удовлетворении заявления министерства управления финансами, сославшись на то, что резолютивные части указанных судебных актов не содержат выводов о признании обязательства Самарской области недействительным, не возникшим или исполненным (погашенным), и, следовательно, оснований для списания задолженности не имеется. В ответ на повторный запрос министерства управления финансами, направленный во Внешэкономбанк письмом от 06.05.2010 N МФ-13-07/806, последний письмом от 03.06.2010 N 782/050003 снова отказался направить в Минфин России представление на списание с учета указанной задолженности. Полагая, что бездействием Внешэкономбанка нарушены права и законные интересы Самарской области,  последняя  в лице министерства управления финансами обратилась в суд с настоящим заявлением. Оценив представленные сторонами доказательства с позиций статьи 71 Арбитражного процессуального кодекса Российской Федерации, руководствуясь статьями 69, 198, 200 - 201 Арбитражного процессуального кодекса Российской Федерации, суды пришли к выводу об обязанности Внешэкономбанка, являющегося агентом Правительства Российской Федерации, в соответствии с пунктами 3 и 5 Порядка направить в Минфин России представление на списание с учета задолженности Самарской области перед федеральным бюджетом, так  как факт прекращения спорного обязательства (договора поручительства от 22.09.1997 N 239-1-2-2-П) установлен при рассмотрении дел Арбитражного суда Самарской области N А55-8964/05-42, Арбитражного суда города Москвы N А40-13939/06-84-98 и N А40-3632/07-24-33. Доводы заявителя, по которым он не согласен с оспариваемыми судебными актами, были предметом судебного разбирательства, им дана соответствующая оценка судами нижестоящих инстанций. Переоценка установленных судами нижестоящих инстанций фактических обстоятельств дела и представленных участниками спора доказательств в силу положений главы 36 Арбитражного процессуального кодекса Российской Федерации в полномочия суда надзорной инстанции не входит. Нарушений норм материального права, а также требований процессуального законодательства, влекущих безусловную отмену судебного акта, судами не допущено. В соответствии с частью 4 статьи 299 Арбитражного процессуального кодекса Российской Федерации определение о передаче дела в Президиум Высшего Арбитражного Суда Российской Федерации для пересмотра оспариваемого судебного акта в порядке надзора может быть вынесено лишь при наличии оснований, предусмотренных частью 1 статьи 304 Арбитражного процессуального кодекса Российской Федерации. Поскольку названные основания для передачи дела в Президиум Высшего Арбитражного Суда Российской Федерации отсутствуют, оспариваемые судебные акты не могут быть пересмотрены в порядке надзора. Учитывая  изложенное  и руководствуясь статьями 299, 301, частью 1 статьи 304 Арбитражного процессуального кодекса Российской Федерации, Суд определил: в передаче дела N А40-102283/10-120-420 Арбитражного суда города Москвы в Президиум Высшего Арбитражного Суда Российской Федерации для пересмотра в порядке надзора решения суда первой инстанции от 22.02.2011, постановления Девятого арбитражного апелляционного суда от 12.05.2011 и постановления Федерального арбитражного суда Московского округа от 22.08.2011 по тому же делу отказать. Председательствующий судья Н.П.ХАРЧИКОВА Судья С.П.БОНДАРЕНКО Судья И.М.МАРАМЫШКИНА'"
      ]
     },
     "execution_count": 16,
     "metadata": {},
     "output_type": "execute_result"
    }
   ],
   "source": [
    "text"
   ]
  },
  {
   "cell_type": "code",
   "execution_count": 17,
   "metadata": {
    "collapsed": true
   },
   "outputs": [],
   "source": [
    "def search(query, search_method):\n",
    "    if search_method == 'word2vec':\n",
    "        search_result = search_w2v(query)\n",
    "    elif search_method == 'doc2vec':\n",
    "        search_result = search_d2v(query)\n",
    "    else:\n",
    "        raise TypeError('unsupported search method')\n",
    "    return search_result"
   ]
  }
 ],
 "metadata": {
  "kernelspec": {
   "display_name": "Python 3",
   "language": "python",
   "name": "python3"
  },
  "language_info": {
   "codemirror_mode": {
    "name": "ipython",
    "version": 3
   },
   "file_extension": ".py",
   "mimetype": "text/x-python",
   "name": "python",
   "nbconvert_exporter": "python",
   "pygments_lexer": "ipython3",
   "version": "3.6.2"
  }
 },
 "nbformat": 4,
 "nbformat_minor": 2
}
