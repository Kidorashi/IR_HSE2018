{
 "cells": [
  {
   "cell_type": "code",
   "execution_count": 2,
   "metadata": {
    "collapsed": true
   },
   "outputs": [],
   "source": [
    "from bs4 import BeautifulSoup\n",
    "import urllib.request\n",
    "import re\n",
    "import time\n",
    "import datetime\n",
    "from datetime import datetime, timedelta, date\n",
    "from translate import Translator"
   ]
  },
  {
   "cell_type": "markdown",
   "metadata": {},
   "source": [
    "**1. Достаём ссылки"
   ]
  },
  {
   "cell_type": "code",
   "execution_count": 29,
   "metadata": {
    "collapsed": true
   },
   "outputs": [],
   "source": [
    "top_url = 'https://www.avito.ru/moskva/kommercheskaya_nedvizhimost'"
   ]
  },
  {
   "cell_type": "code",
   "execution_count": 7,
   "metadata": {
    "collapsed": true
   },
   "outputs": [],
   "source": [
    "def get_html(url):\n",
    "    page = urllib.request.urlopen(url)\n",
    "    html = page.read().decode('UTF-8')\n",
    "    soup = BeautifulSoup(html, \"html.parser\")\n",
    "    return soup"
   ]
  },
  {
   "cell_type": "code",
   "execution_count": 20,
   "metadata": {
    "collapsed": true
   },
   "outputs": [],
   "source": [
    "def write_links(divs):\n",
    "    all_links = open ('.\\\\All_links.txt', 'a')\n",
    "    for div in divs:\n",
    "        link = re.search('(?<=/moskva/kommercheskaya_nedvizhimost)/.*?(?=\")', str(div))\n",
    "        if link!=None:\n",
    "            all_links.write(link.group(0)+'\\n')\n",
    "    all_links.close()"
   ]
  },
  {
   "cell_type": "code",
   "execution_count": 18,
   "metadata": {
    "collapsed": true
   },
   "outputs": [],
   "source": [
    "def get_all_links(top_url):\n",
    "    url = top_url + '?view=list'\n",
    "    n=1\n",
    "    while url != '':\n",
    "        soup = get_html(url)\n",
    "        time.sleep(5)\n",
    "        divs = soup.find_all(\"div\", class_=re.compile(\"title description-title\"))\n",
    "        write_links(divs)\n",
    "        if_next = soup.find(\"a\", class_=re.compile(\"pagination-page js-pagination-next\"))\n",
    "        print(url)\n",
    "        if if_next==None:\n",
    "            url=''\n",
    "        else:\n",
    "            n+=1\n",
    "            url = top_url + '?p=' + str(n) + '&view=list'"
   ]
  },
  {
   "cell_type": "code",
   "execution_count": null,
   "metadata": {
    "collapsed": true
   },
   "outputs": [],
   "source": [
    "get_all_links(top_url)"
   ]
  },
  {
   "cell_type": "markdown",
   "metadata": {},
   "source": [
    "**2. Обкачиваем ссылки."
   ]
  },
  {
   "cell_type": "markdown",
   "metadata": {},
   "source": [
    "В итоге у меня получилось меньше 10000 файлов. Объявления меняются/удаляются с какой-то невероятной скоростью. Вытаскивала информацию на следующий день после получаения ссылок - более 1000 уже были недействительными. Надеюсь, это не повлияет ни на что."
   ]
  },
  {
   "cell_type": "code",
   "execution_count": 46,
   "metadata": {
    "collapsed": true
   },
   "outputs": [],
   "source": [
    "def write_info(url, what):\n",
    "    path = '.\\\\All_files\\\\' + url + '.txt'\n",
    "    f = open(path, 'a', encoding = 'UTF-8')\n",
    "    f.write(what + '\\n')\n",
    "    return"
   ]
  },
  {
   "cell_type": "code",
   "execution_count": 69,
   "metadata": {
    "collapsed": true
   },
   "outputs": [],
   "source": [
    "def change_date(date):\n",
    "    now = datetime.now()\n",
    "    translator= Translator(to_lang=\"Russian\")\n",
    "    time = re.search('\\d*:\\d*', date)\n",
    "    time = time.group(0)\n",
    "    if \"сегодня\" in date:\n",
    "        dt = datetime.strftime(datetime.now(), \"%d %B\")\n",
    "    else:\n",
    "        dt = (datetime.now() - timedelta(1)).strftime('%d %B')\n",
    "    dt = dt.split(' ')\n",
    "    day = dt[0]\n",
    "    month = translator.translate(dt[1])\n",
    "    date =day + ' ' + month + ' ' +'в' +' ' + time\n",
    "    return date"
   ]
  },
  {
   "cell_type": "code",
   "execution_count": 109,
   "metadata": {
    "collapsed": true
   },
   "outputs": [],
   "source": [
    "def get_title(url, soup):\n",
    "    title_html = soup.find(\"span\", class_=re.compile(\"title-info-title-text\"))\n",
    "    title = re.search('(?<=\"name\">).*?(?=</span)', str(title_html))\n",
    "    title = 'Объявление: ' + title_html.text + '.'\n",
    "    write_info(url, title)\n",
    "    return"
   ]
  },
  {
   "cell_type": "code",
   "execution_count": 90,
   "metadata": {
    "collapsed": true
   },
   "outputs": [],
   "source": [
    "def get_date(url, soup):\n",
    "    date_html = soup.find(\"div\", class_=re.compile(\"title-info-metadata-item\"))\n",
    "    date = re.search ('(?<=размещено ).*?(?=  </div>)', str(date_html))\n",
    "    if date is None:\n",
    "        date = 'Дата размещения недоступна, потому что объявление закрыто.'\n",
    "    else:\n",
    "        date = date.group(0)\n",
    "        if \"сегодня\" or \"вчера\" in date:\n",
    "            date = change_date(date)\n",
    "        date = 'Размещено: ' + date + '.'   \n",
    "    write_info(url, date)\n",
    "    return"
   ]
  },
  {
   "cell_type": "code",
   "execution_count": 133,
   "metadata": {
    "collapsed": true
   },
   "outputs": [],
   "source": [
    "def get_price(url, soup):\n",
    "    price_html = soup.find(\"span\", class_=re.compile(\"price-value-string js-price-value-string\"))\n",
    "    if \"в месяц\" in str(price_html):\n",
    "        price =  'Цена: ' + (soup.find(\"span\", class_=re.compile(\"js-item-price\"))).text + ' рублей в месяц.'\n",
    "    elif \"js-item-price\" not in str(price_html):\n",
    "        price = re.sub('\\n ', '', price_html.text).strip(' ')+'.'\n",
    "    else:\n",
    "        price = 'Цена: ' + (soup.find(\"span\", class_=re.compile(\"js-item-price\"))).text + ' рублей.'\n",
    "    write_info(url, price)\n",
    "    return"
   ]
  },
  {
   "cell_type": "code",
   "execution_count": 86,
   "metadata": {
    "collapsed": true
   },
   "outputs": [],
   "source": [
    "def get_address(url, soup):\n",
    "    address_html = soup.find(\"span\", class_=re.compile(\"item-map-address\"))\n",
    "    if address_html is None:\n",
    "        address = 'Адрес не указан.'\n",
    "    else:\n",
    "        address = 'Адрес: ' + re.sub('\\n ', '', address_html.text).strip(' ') + '.'\n",
    "    write_info(url, address)\n",
    "    return"
   ]
  },
  {
   "cell_type": "code",
   "execution_count": 62,
   "metadata": {
    "collapsed": true
   },
   "outputs": [],
   "source": [
    "def get_text(url, soup):\n",
    "    descr_html = soup.find(\"div\", class_=re.compile(\"item-description\"))\n",
    "    descr_p = descr_html.find_all(\"p\")\n",
    "    write_info(url, 'Текст объявления:')\n",
    "    for item in descr_p:\n",
    "        text = re.sub('<.*?>', '', str(item))\n",
    "        write_info(url, text)\n",
    "    return"
   ]
  },
  {
   "cell_type": "code",
   "execution_count": 93,
   "metadata": {
    "collapsed": true
   },
   "outputs": [],
   "source": [
    "with open('.\\\\All_links.txt') as f:\n",
    "    links = f.readlines()"
   ]
  },
  {
   "cell_type": "code",
   "execution_count": null,
   "metadata": {
    "collapsed": true
   },
   "outputs": [],
   "source": [
    "for i in range(0, len(links)):\n",
    "    link = links[i].strip('\\n')\n",
    "    url = top_url+link\n",
    "    soup = get_html(url)\n",
    "    time.sleep(5)\n",
    "    if soup.find(\"span\", class_=re.compile(\"title-info-title-text\")) is None:\n",
    "         continue\n",
    "    else:\n",
    "        get_title(link, soup)\n",
    "        get_date(link, soup)\n",
    "        get_price(link, soup)\n",
    "        get_address(link, soup)\n",
    "        get_text(link, soup)"
   ]
  }
 ],
 "metadata": {
  "kernelspec": {
   "display_name": "Python 3",
   "language": "python",
   "name": "python3"
  },
  "language_info": {
   "codemirror_mode": {
    "name": "ipython",
    "version": 3
   },
   "file_extension": ".py",
   "mimetype": "text/x-python",
   "name": "python",
   "nbconvert_exporter": "python",
   "pygments_lexer": "ipython3",
   "version": "3.6.2"
  }
 },
 "nbformat": 4,
 "nbformat_minor": 2
}
