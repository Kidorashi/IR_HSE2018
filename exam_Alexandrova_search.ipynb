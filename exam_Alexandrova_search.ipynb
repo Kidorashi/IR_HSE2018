{
 "cells": [
  {
   "cell_type": "code",
   "execution_count": 1,
   "metadata": {},
   "outputs": [
    {
     "name": "stderr",
     "output_type": "stream",
     "text": [
      "C:\\Users\\1\\Anaconda3\\lib\\site-packages\\gensim\\utils.py:1212: UserWarning: detected Windows; aliasing chunkize to chunkize_serial\n",
      "  warnings.warn(\"detected Windows; aliasing chunkize to chunkize_serial\")\n"
     ]
    }
   ],
   "source": [
    "from gensim.models import KeyedVectors\n",
    "from gensim.models.doc2vec import Doc2Vec\n",
    "from gensim import matutils\n",
    "import re\n",
    "import os\n",
    "\n",
    "import numpy as np\n",
    "import json\n",
    "\n",
    "import operator"
   ]
  },
  {
   "cell_type": "code",
   "execution_count": 2,
   "metadata": {
    "collapsed": true
   },
   "outputs": [],
   "source": [
    "model_w = KeyedVectors.load_word2vec_format(r\"news_0_300_2.bin\", binary=True, unicode_errors='ignore')\n",
    "model_d = Doc2Vec.load('Doc2Vec_100s_1000e')"
   ]
  },
  {
   "cell_type": "code",
   "execution_count": 3,
   "metadata": {
    "collapsed": true
   },
   "outputs": [],
   "source": [
    "def preprocessing(par):\n",
    "    par = par.replace('.', ' ')\n",
    "    par = par.replace(',', ' ')\n",
    "    par = par.replace(':', ' ')\n",
    "    par = par.replace(';', ' ')\n",
    "    par = par.replace('-', ' ')\n",
    "    par = par.replace('+', ' ')\n",
    "    par = par.replace('м²', ' ')\n",
    "    par = par.replace(')', ' ')\n",
    "    par = par.replace('(', ' ')\n",
    "    par = par.replace('\\\\', ' ')\n",
    "    par = par.replace('/', ' ')\n",
    "    par = par.replace('\"', ' ')\n",
    "    par = par.replace('!', ' ')\n",
    "    par = par.replace('?', ' ')\n",
    "    par = par.replace('\\n', ' ')\n",
    "    par = par.replace('\\xa0', ' ')\n",
    "    par = par.replace('\\u200b', ' ')\n",
    "    par = par.replace('\\r', ' ')\n",
    "    par = re.sub('[0-9]','', par)\n",
    "    par = par.replace('   ', ' ')\n",
    "    par = par.replace('  ', ' ')\n",
    "    par = par.strip(' ')\n",
    "    par = par.lower()\n",
    "        \n",
    "    return par\n",
    "\n",
    "def similarity(v1, v2):\n",
    "    v1_norm = matutils.unitvec(np.array(v1))\n",
    "    v2_norm = matutils.unitvec(np.array(v2))\n",
    "    sim = np.dot(v1_norm, v2_norm)\n",
    "    if sim is not None:\n",
    "        return sim\n",
    "    else:\n",
    "        return 0"
   ]
  },
  {
   "cell_type": "code",
   "execution_count": 4,
   "metadata": {
    "collapsed": true
   },
   "outputs": [],
   "source": [
    "def beau_data(my_top):\n",
    "    all_beau = []\n",
    "    for t in my_top:\n",
    "        name = re.search('Объявление: (.*?)\\nРазмещено:', t).group(1)\n",
    "        when = re.search('Размещено: (.*?)\\nЦена:', t).group(1)\n",
    "        price = re.search('Цена: (.*?)\\nАдрес:', t).group(1)\n",
    "        address = re.search('Адрес: (.*?)\\nТекст объявления:', t).group(1)\n",
    "        te = re.search('Текст объявления:\\n(.*?)$', t)\n",
    "        if te is None:\n",
    "            text = 'отсутствует.'\n",
    "        else:\n",
    "            text = te.group(1)\n",
    "        a = [name, when, price, address, text]\n",
    "        all_beau.append(a)\n",
    "    return all_beau"
   ]
  },
  {
   "cell_type": "code",
   "execution_count": 12,
   "metadata": {
    "collapsed": true
   },
   "outputs": [],
   "source": [
    "def search_w2v(query):\n",
    "    query = preprocessing(query).split(' ')\n",
    "    query_vec = np.zeros(100)\n",
    "    for word in query:\n",
    "        try:\n",
    "            v = model_w.get_vector(word)\n",
    "            query_vec += v\n",
    "        except Exception as ex:\n",
    "            continue\n",
    "    path, dirs, files = next(os.walk(\"json_w\"))\n",
    "\n",
    "    max_similar = {}\n",
    "\n",
    "    for i in range(1, len(files)):\n",
    "        doc2similar = {}\n",
    "        path = r'json_w\\all_json_w2v_' + str(i) +'.txt'\n",
    "        with open(path) as f:\n",
    "            doc = json.load(f)\n",
    "        for key, value in doc.items():\n",
    "            doc2similar[key] = similarity(query_vec, np.array(value))\n",
    "        max_similar[max(doc2similar)] = doc2similar[max(doc2similar)]\n",
    "        \n",
    "    sorted_dict = sorted(max_similar.items(), key=operator.itemgetter(1), reverse=True)\n",
    "    \n",
    "    top = []\n",
    "    for file in sorted_dict[:10]:\n",
    "        path = 'All_files\\\\'+file[0]+'.txt'\n",
    "        with open(path, 'r', encoding = 'UTF-8') as f:\n",
    "            text = f.read()\n",
    "        top.append(text)\n",
    "    top = beau_data(top)\n",
    "    return top\n",
    "\n",
    "def search_d2v(query):\n",
    "    query = preprocessing(query).split(' ')\n",
    "    query_vec = model_d.infer_vector(query)\n",
    "    \n",
    "    path, dirs, files = next(os.walk(\"json_d\"))\n",
    "\n",
    "    max_similar = {}\n",
    "\n",
    "    for i in range(1, len(files)):\n",
    "        doc2similar = {}\n",
    "        path = r'json_d\\all_json_d2v_' + str(i) +'.txt'\n",
    "        with open(path) as f:\n",
    "            doc = json.load(f)\n",
    "        for key, value in doc.items():\n",
    "            doc2similar[key] = similarity(query_vec, np.array(value))\n",
    "        max_similar[max(doc2similar)] = doc2similar[max(doc2similar)]\n",
    "        \n",
    "    sorted_dict = sorted(max_similar.items(), key=operator.itemgetter(1), reverse=True)\n",
    "    \n",
    "    top = []\n",
    "    for file in sorted_dict[:10]:\n",
    "        path = 'All_files\\\\'+file[0]+'.txt'\n",
    "        with open(path, 'r', encoding = 'UTF-8') as f:\n",
    "            text = f.read()\n",
    "        top.append(text)\n",
    "    top = beau_data(top)\n",
    "    return sorted_dict[:10]"
   ]
  },
  {
   "cell_type": "code",
   "execution_count": 11,
   "metadata": {
    "collapsed": true
   },
   "outputs": [],
   "source": [
    "from flask import Flask\n",
    "from flask import url_for, render_template, request, redirect\n",
    "\n",
    "app = Flask(__name__)"
   ]
  },
  {
   "cell_type": "code",
   "execution_count": 12,
   "metadata": {
    "collapsed": true
   },
   "outputs": [],
   "source": [
    "@app.route('/s', methods=['POST', 'GET'])\n",
    "def index():\n",
    "    if request.method == 'POST':\n",
    "        query = request.form['query']\n",
    "        if 'word2vec' in request.form:\n",
    "            results = search_w2v(query)\n",
    "        elif 'doc2vec' in request.form:\n",
    "            results = search_d2v(query)\n",
    "        return render_template('result.html', results = results)\n",
    "    return render_template(\"search.html\")"
   ]
  },
  {
   "cell_type": "code",
   "execution_count": null,
   "metadata": {
    "collapsed": true
   },
   "outputs": [],
   "source": [
    "if __name__ == '__main__':\n",
    "    app.run(debug=True)"
   ]
  }
 ],
 "metadata": {
  "kernelspec": {
   "display_name": "Python 3",
   "language": "python",
   "name": "python3"
  },
  "language_info": {
   "codemirror_mode": {
    "name": "ipython",
    "version": 3
   },
   "file_extension": ".py",
   "mimetype": "text/x-python",
   "name": "python",
   "nbconvert_exporter": "python",
   "pygments_lexer": "ipython3",
   "version": "3.6.2"
  }
 },
 "nbformat": 4,
 "nbformat_minor": 2
}
