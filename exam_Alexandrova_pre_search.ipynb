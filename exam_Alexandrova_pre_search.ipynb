{
 "cells": [
  {
   "cell_type": "code",
   "execution_count": 131,
   "metadata": {
    "collapsed": true
   },
   "outputs": [],
   "source": [
    "from gensim.models import KeyedVectors\n",
    "from gensim import matutils\n",
    "import re\n",
    "import os\n",
    "from tqdm import tqdm_notebook as tqdm\n",
    "\n",
    "from gensim.models.doc2vec import Doc2Vec\n",
    "\n",
    "import numpy as np\n",
    "import json\n",
    "\n",
    "import operator"
   ]
  },
  {
   "cell_type": "code",
   "execution_count": 16,
   "metadata": {
    "collapsed": true
   },
   "outputs": [],
   "source": [
    "def preprocessing(par):\n",
    "    par = par.replace('.', ' ')\n",
    "    par = par.replace(',', ' ')\n",
    "    par = par.replace(':', ' ')\n",
    "    par = par.replace(';', ' ')\n",
    "    par = par.replace('-', ' ')\n",
    "    par = par.replace('+', ' ')\n",
    "    par = par.replace('м²', ' ')\n",
    "    par = par.replace(')', ' ')\n",
    "    par = par.replace('(', ' ')\n",
    "    par = par.replace('\\\\', ' ')\n",
    "    par = par.replace('/', ' ')\n",
    "    par = par.replace('\"', ' ')\n",
    "    par = par.replace('!', ' ')\n",
    "    par = par.replace('?', ' ')\n",
    "    par = par.replace('\\n', ' ')\n",
    "    par = par.replace('\\xa0', ' ')\n",
    "    par = par.replace('\\u200b', ' ')\n",
    "    par = par.replace('\\r', ' ')\n",
    "    par = re.sub('[0-9]','', par)\n",
    "    par = par.replace('   ', ' ')\n",
    "    par = par.replace('  ', ' ')\n",
    "    par = par.strip(' ')\n",
    "    par = par.lower()\n",
    "        \n",
    "    return par"
   ]
  },
  {
   "cell_type": "code",
   "execution_count": 147,
   "metadata": {
    "collapsed": true
   },
   "outputs": [],
   "source": [
    "def similarity(v1, v2):\n",
    "    v1_norm = matutils.unitvec(np.array(v1))\n",
    "    v2_norm = matutils.unitvec(np.array(v2))\n",
    "    sim = np.dot(v1_norm, v2_norm)\n",
    "    if sim is not None:\n",
    "        return sim\n",
    "    else:\n",
    "        return 0"
   ]
  },
  {
   "cell_type": "code",
   "execution_count": 79,
   "metadata": {
    "collapsed": true
   },
   "outputs": [],
   "source": [
    "with open('Train_links.txt', 'r') as f:\n",
    "    my_links = f.readlines()"
   ]
  },
  {
   "cell_type": "markdown",
   "metadata": {},
   "source": [
    "### W2V"
   ]
  },
  {
   "cell_type": "code",
   "execution_count": 27,
   "metadata": {
    "collapsed": true
   },
   "outputs": [],
   "source": [
    "model_path = r\"../all.norm-sz100-w10-cb0-it1-min100.w2v\"\n",
    "model_w = KeyedVectors.load_word2vec_format(model_path, binary=True, unicode_errors='ignore')"
   ]
  },
  {
   "cell_type": "code",
   "execution_count": 28,
   "metadata": {
    "collapsed": true
   },
   "outputs": [],
   "source": [
    "def par_t_v(par):\n",
    "    vecs = np.zeros(100)\n",
    "    par = list(filter(None, par.split(' ')))\n",
    "    for word in par:\n",
    "        try:\n",
    "            vec = model_w.get_vector(word)\n",
    "        except Exception as ex:\n",
    "            continue\n",
    "        if vecs.size is 0:\n",
    "            vecs = vec\n",
    "        else:\n",
    "            vecs = vecs+vec\n",
    "    vec = vecs/len(par)\n",
    "    return vec"
   ]
  },
  {
   "cell_type": "code",
   "execution_count": 288,
   "metadata": {
    "collapsed": true
   },
   "outputs": [],
   "source": [
    "def get_w2v_vectors(text, notice_vecs_w, link):\n",
    "    par = preprocessing(text)\n",
    "    par = re.sub('размещено .*? текст объявления', '', par)\n",
    "    vec_par = par_t_v(par)\n",
    "    notice_vecs_w[link] = vec_par.tolist()\n",
    "    return notice_vecs_w"
   ]
  },
  {
   "cell_type": "code",
   "execution_count": 50,
   "metadata": {
    "collapsed": true
   },
   "outputs": [],
   "source": [
    "def write_json(notice_vecs_w, global_num):\n",
    "    p = r'json_w\\all_json_w2v_' + str(global_num) +'.txt'\n",
    "    with open(p, 'w') as f:\n",
    "        json.dump(notice_vecs_w, f)\n",
    "    return"
   ]
  },
  {
   "cell_type": "code",
   "execution_count": 289,
   "metadata": {},
   "outputs": [
    {
     "data": {
      "application/vnd.jupyter.widget-view+json": {
       "model_id": "ef669fdf666b4fc48bbc711a90f33bd1",
       "version_major": 2,
       "version_minor": 0
      },
      "text/plain": [
       "A Jupyter Widget"
      ]
     },
     "metadata": {},
     "output_type": "display_data"
    },
    {
     "name": "stdout",
     "output_type": "stream",
     "text": [
      "\n"
     ]
    }
   ],
   "source": [
    "notice_vecs_w = {}\n",
    "global_num = 1\n",
    "\n",
    "for idx in tqdm(range(0, len(my_links))):\n",
    "    path_file = 'All_files\\\\'+my_links[idx].strip('\\n, /')+'.txt'\n",
    "    if os.path.isfile(path_file):\n",
    "        with open (path_file, 'r', encoding='UTF-8') as f:\n",
    "            text = f.read()\n",
    "        notice_vecs_w = get_w2v_vectors(text, notice_vecs_w, my_links[idx].strip('\\n,/'))\n",
    "        \n",
    "    if (idx+1)%300 is 0 or idx is len(my_links)-1:\n",
    "        write_json(notice_vecs_w, global_num)\n",
    "        notice_vecs_w = {} \n",
    "        global_num+=1"
   ]
  },
  {
   "cell_type": "markdown",
   "metadata": {},
   "source": [
    "### D2V"
   ]
  },
  {
   "cell_type": "code",
   "execution_count": 231,
   "metadata": {
    "collapsed": true
   },
   "outputs": [],
   "source": [
    "model_d = Doc2Vec.load('Doc2Vec_100s_1000e')"
   ]
  },
  {
   "cell_type": "code",
   "execution_count": 232,
   "metadata": {
    "collapsed": true
   },
   "outputs": [],
   "source": [
    "def doc_t_v(par):\n",
    "    vec = np.zeros(100)\n",
    "    try:\n",
    "        vec = model_d.infer_vector(par)\n",
    "    except Exception as ex:\n",
    "        print(ex)\n",
    "    return vec"
   ]
  },
  {
   "cell_type": "code",
   "execution_count": 294,
   "metadata": {
    "collapsed": true
   },
   "outputs": [],
   "source": [
    "def get_d2v_vectors(text, notice_vecs_d, link):\n",
    "    par = preprocessing(text)\n",
    "    par = re.sub('размещено .*? текст объявления', '', par)\n",
    "    vec_par = doc_t_v(par)\n",
    "    notice_vecs_d[link] = vec_par.tolist()\n",
    "    return notice_vecs_d"
   ]
  },
  {
   "cell_type": "code",
   "execution_count": 235,
   "metadata": {
    "collapsed": true
   },
   "outputs": [],
   "source": [
    "def write_json(notice_vecs_d, global_num):\n",
    "    p = r'json_d\\all_json_d2v_' + str(global_num) +'.txt'\n",
    "    with open(p, 'w') as f:\n",
    "        json.dump(notice_vecs_w, f)\n",
    "    return"
   ]
  },
  {
   "cell_type": "code",
   "execution_count": 295,
   "metadata": {},
   "outputs": [
    {
     "data": {
      "application/vnd.jupyter.widget-view+json": {
       "model_id": "3f0464cd54ea4e2e965592b765d97644",
       "version_major": 2,
       "version_minor": 0
      },
      "text/plain": [
       "A Jupyter Widget"
      ]
     },
     "metadata": {},
     "output_type": "display_data"
    },
    {
     "name": "stdout",
     "output_type": "stream",
     "text": [
      "\n"
     ]
    }
   ],
   "source": [
    "notice_vecs_d = {}\n",
    "global_num = 1\n",
    "\n",
    "for idx in tqdm(range(0, len(my_links))):\n",
    "    path_file = 'All_files\\\\'+my_links[idx].strip('\\n, /')+'.txt'\n",
    "    if os.path.isfile(path_file):\n",
    "        with open (path_file, 'r', encoding='UTF-8') as f:\n",
    "            text = f.read()\n",
    "        notice_vecs_w = get_d2v_vectors(text, notice_vecs_d, my_links[idx].strip('\\n,/'))\n",
    "        \n",
    "    if (idx+1)%300 is 0 or idx is len(my_links)-1:\n",
    "        write_json(notice_vecs_w, global_num)\n",
    "        notice_vecs_d = {} \n",
    "        global_num+=1"
   ]
  }
 ],
 "metadata": {
  "kernelspec": {
   "display_name": "Python 3",
   "language": "python",
   "name": "python3"
  },
  "language_info": {
   "codemirror_mode": {
    "name": "ipython",
    "version": 3
   },
   "file_extension": ".py",
   "mimetype": "text/x-python",
   "name": "python",
   "nbconvert_exporter": "python",
   "pygments_lexer": "ipython3",
   "version": "3.6.2"
  }
 },
 "nbformat": 4,
 "nbformat_minor": 2
}
