{
 "cells": [
  {
   "cell_type": "markdown",
   "metadata": {},
   "source": [
    "## ДЗ по поиску\n",
    "\n",
    "Привет! Вам надо реализивать поисковик на базе вопросов-ответов с сайта [pravoved.ru](https://pravoved.ru/questions-archive/).        \n",
    "Поиск должен работать на трех технологиях:       \n",
    "1. обратном индексе     \n",
    "2. word2vec         \n",
    "3. doc2vec      \n",
    "\n",
    "Вы должны понять, какой метод и при каких условиях эксперимента на этом корпусе работает лучше.          \n",
    "Для измерения качества поиска найдите точность (accuracy) выпадания правильного ответа на конкретный вопрос (в этой базе у каждого вопроса есть только один правильный ответ). Точность нужно измерить для всей базы.    \n",
    "При этом давайте считать, что выпал правильный ответ, если он попал в **топ-5** поисковой выдачи.\n",
    "\n",
    "> Сделайте ваш поиск максимально качественным, чтобы значение точности стремилось к 1.     \n",
    "Для этого можно поэкспериментировать со следующим:       \n",
    "- модель word2vec (можно брать любую из опен сорса или обучить свою)\n",
    "- способ получения вектора документа через word2vec: простое среднее арифметическое или взвешивать каждый вектор в соответствии с его tf-idf      \n",
    "- количество эпох у doc2vec (начинайте от 100)\n",
    "- предобработка документов для обучения doc2vec (удалять / не удалять стоп-слова)\n",
    "- блендинг методов поиска: соединить результаты обратного индекса и w2v, или (что проще) w2v и d2v\n",
    "\n",
    "На это задание отведем 10 дней. Дэдлайн сдачи до полуночи 12.10."
   ]
  },
  {
   "cell_type": "code",
   "execution_count": 103,
   "metadata": {},
   "outputs": [],
   "source": [
    "from gensim.models import Word2Vec, KeyedVectors\n",
    "from gensim import matutils\n",
    "import re\n",
    "import os\n",
    "from tqdm import tqdm_notebook as tqdm\n",
    "\n",
    "from gensim.models.doc2vec import Doc2Vec, TaggedDocument, TaggedLineDocument\n",
    "import nltk\n",
    "import pickle\n",
    "\n",
    "import numpy as np\n",
    "import json\n",
    "\n",
    "import operator"
   ]
  },
  {
   "cell_type": "code",
   "execution_count": null,
   "metadata": {
    "collapsed": true
   },
   "outputs": [],
   "source": [
    "with open('qa_corpus.pkl', 'rb') as file:\n",
    "    qa_corpus = pickle.load(file)"
   ]
  },
  {
   "cell_type": "markdown",
   "metadata": {},
   "source": [
    "Всего в корпусе 1384 пары вопрос-ответ"
   ]
  },
  {
   "cell_type": "code",
   "execution_count": 6,
   "metadata": {},
   "outputs": [
    {
     "data": {
      "text/plain": [
       "1384"
      ]
     },
     "execution_count": 6,
     "metadata": {},
     "output_type": "execute_result"
    }
   ],
   "source": [
    "len(qa_corpus)"
   ]
  },
  {
   "cell_type": "markdown",
   "metadata": {},
   "source": [
    "Первый элемент блока это вопрос, второй - ответ на него"
   ]
  },
  {
   "cell_type": "code",
   "execution_count": 191,
   "metadata": {},
   "outputs": [
    {
     "data": {
      "text/plain": [
       "['добрый день мой сын гражданин украины днр имеет вид на жительство в р ф кот получил проживая с г в нижегородской области в г переехал на постоянное место жительство в г ростов официально трудоустроился на одно из промышл предприятий г ростова оформил временную регистрацию в ростове в уфмс предупредили что по истечении дней он должен либо постоянно прописаться либо покинуть территорию россии прошу проконсультировать как быть дальше вернуться домой в донецк но здесь идет война работы нет в ростове он работает по специальности он инженер машиностроитель временная прописка до марта если он сможет приобрести какую либо недвижимость как долго будет решаться вопрос о его постоянной прописке в ростове как в этом случае будет решаться вопрос с видом на жительство в ростове не получится ли что приобретя квартиру он не успеет в ней прописаться до окончании срока временной регистрации с уважением людмила евгеньевна',\n",
       " 'добрый вечер из вашего вопроса вообще ничего не ясно ваш сын по внж в нижегородской обл сделал временную на дней в ростове так или в чем заключается вопрос с ув алёнамиграционный юристростов на дону']"
      ]
     },
     "execution_count": 191,
     "metadata": {},
     "output_type": "execute_result"
    }
   ],
   "source": [
    "qa_corpus[0]"
   ]
  },
  {
   "cell_type": "code",
   "execution_count": 252,
   "metadata": {
    "collapsed": true
   },
   "outputs": [],
   "source": [
    "def preprocessing(par):\n",
    "    par = par.replace('.', ' ')\n",
    "    par = par.replace(',', ' ')\n",
    "    par = par.replace(':', ' ')\n",
    "    par = par.replace(';', ' ')\n",
    "    par = par.replace('-', ' ')\n",
    "    par = par.replace(')', ' ')\n",
    "    par = par.replace('(', ' ')\n",
    "    par = par.replace('\\\\', ' ')\n",
    "    par = par.replace('/', ' ')\n",
    "    par = par.replace('\"', ' ')\n",
    "    par = par.replace('!', ' ')\n",
    "    par = par.replace('?', ' ')\n",
    "    par = par.replace('\\n', ' ')\n",
    "    par = par.replace('\\xa0', ' ')\n",
    "    par = par.replace('\\u200b', ' ')\n",
    "    par = par.replace('\\r', ' ')\n",
    "    par = re.sub('[0-9]','', par)\n",
    "    par = par.replace('   ', ' ')\n",
    "    par = par.replace('  ', ' ')\n",
    "    par = par.strip(' ')\n",
    "    par = par.lower()\n",
    "        \n",
    "    return par"
   ]
  },
  {
   "cell_type": "code",
   "execution_count": 199,
   "metadata": {},
   "outputs": [],
   "source": [
    "#dict_qa = {}\n",
    "questions = []\n",
    "answers = []\n",
    "for i in range(0, len(qa_corpus)):\n",
    "    questions.append(preprocessing(qa_corpus[i][0]))\n",
    "    answers.append(preprocessing(qa_corpus[i][1]))\n",
    "    #dict_qa[qa_corpus[i][0]] = qa_corpus[i][1]"
   ]
  },
  {
   "cell_type": "code",
   "execution_count": 196,
   "metadata": {},
   "outputs": [
    {
     "data": {
      "text/plain": [
       "['добрый день мой сын гражданин украины днр имеет вид на жительство в р ф кот получил проживая с г в нижегородской области в г переехал на постоянное место жительство в г ростов официально трудоустроился на одно из промышл предприятий г ростова оформил временную регистрацию в ростове в уфмс предупредили что по истечении дней он должен либо постоянно прописаться либо покинуть территорию россии прошу проконсультировать как быть дальше вернуться домой в донецк но здесь идет война работы нет в ростове он работает по специальности он инженер машиностроитель временная прописка до марта если он сможет приобрести какую либо недвижимость как долго будет решаться вопрос о его постоянной прописке в ростове как в этом случае будет решаться вопрос с видом на жительство в ростове не получится ли что приобретя квартиру он не успеет в ней прописаться до окончании срока временной регистрации с уважением людмила евгеньевна',\n",
       " 'добрый вечер из вашего вопроса вообще ничего не ясно ваш сын по внж в нижегородской обл сделал временную на дней в ростове так или в чем заключается вопрос с ув алёнамиграционный юристростов на дону']"
      ]
     },
     "execution_count": 196,
     "metadata": {},
     "output_type": "execute_result"
    }
   ],
   "source": [
    "qa_corpus[0]"
   ]
  },
  {
   "cell_type": "code",
   "execution_count": 138,
   "metadata": {
    "collapsed": true
   },
   "outputs": [],
   "source": [
    "def similarity(v1, v2):\n",
    "    v1_norm = matutils.unitvec(np.array(v1))\n",
    "    v2_norm = matutils.unitvec(np.array(v2))\n",
    "    sim = np.dot(v1_norm, v2_norm)\n",
    "    if sim is not None:\n",
    "        return sim\n",
    "    else:\n",
    "        return 0"
   ]
  },
  {
   "cell_type": "markdown",
   "metadata": {},
   "source": [
    "### W2V"
   ]
  },
  {
   "cell_type": "code",
   "execution_count": 22,
   "metadata": {},
   "outputs": [],
   "source": [
    "model_path = r\"C:\\Users\\1\\Downloads\\all.norm-sz100-w10-cb0-it1-min100.w2v\"\n",
    "model_w = KeyedVectors.load_word2vec_format(model_path, binary=True, unicode_errors='ignore')"
   ]
  },
  {
   "cell_type": "code",
   "execution_count": 58,
   "metadata": {
    "collapsed": true
   },
   "outputs": [],
   "source": [
    "def par_t_v(par):\n",
    "    vecs = np.zeros(100)\n",
    "    par = list(filter(None, par.split(' ')))\n",
    "    for word in par:\n",
    "        try:\n",
    "            vec = model_w.get_vector(word)\n",
    "        except Exception as ex:\n",
    "            continue\n",
    "        if vecs.size is 0:\n",
    "            vecs = vec\n",
    "        else:\n",
    "            vecs = vecs+vec\n",
    "    vec = vecs/len(par)\n",
    "    return vec"
   ]
  },
  {
   "cell_type": "code",
   "execution_count": 299,
   "metadata": {
    "collapsed": true
   },
   "outputs": [],
   "source": [
    "def get_w2v_vectors(pars):\n",
    "    pars_and_vecs = {}\n",
    "    for i in range(0, len(pars)):\n",
    "        par = preprocessing(pars[i])\n",
    "        vec_par = par_t_v(par)\n",
    "        pars_and_vecs[i] = [vec_par, pars[i]]\n",
    "    return pars_and_vecs"
   ]
  },
  {
   "cell_type": "code",
   "execution_count": 302,
   "metadata": {},
   "outputs": [],
   "source": [
    "q_vecs_w = get_w2v_vectors(questions)"
   ]
  },
  {
   "cell_type": "code",
   "execution_count": 303,
   "metadata": {
    "collapsed": true
   },
   "outputs": [],
   "source": [
    "a_vecs_w = get_w2v_vectors(answers)"
   ]
  },
  {
   "cell_type": "code",
   "execution_count": 318,
   "metadata": {
    "collapsed": true
   },
   "outputs": [],
   "source": [
    "def search_w2v(query):\n",
    "    global q_vecs_w\n",
    "    query = preprocessing(query).split(' ')\n",
    "    vec = np.zeros(100)\n",
    "    for word in query:\n",
    "        try:\n",
    "            v = model_w.get_vector(word)\n",
    "            vec += v\n",
    "        except Exception as ex:\n",
    "            continue\n",
    "    doc2similar = {}\n",
    "    for i in range(0, len(q_vecs_w)):\n",
    "            doc2similar[i] = similarity (vec, q_vecs_w[i][0])\n",
    "    sorted_dict = sorted(doc2similar.items(), key=operator.itemgetter(1), reverse=True)\n",
    "    top = sorted_dict[:5]\n",
    "    return top"
   ]
  },
  {
   "cell_type": "markdown",
   "metadata": {},
   "source": [
    "### D2V"
   ]
  },
  {
   "cell_type": "code",
   "execution_count": 63,
   "metadata": {
    "collapsed": true
   },
   "outputs": [],
   "source": [
    "model_d = Doc2Vec.load('Doc2Vec_100s_1000e')"
   ]
  },
  {
   "cell_type": "code",
   "execution_count": 66,
   "metadata": {
    "collapsed": true
   },
   "outputs": [],
   "source": [
    "def doc_t_v(par):\n",
    "    vec = np.zeros(100)\n",
    "    try:\n",
    "        vec = model_d.infer_vector(par)\n",
    "    except Exception as ex:\n",
    "        print(ex)\n",
    "    return vec"
   ]
  },
  {
   "cell_type": "code",
   "execution_count": 148,
   "metadata": {
    "collapsed": true
   },
   "outputs": [],
   "source": [
    "def get_d2v_vectors(pars):\n",
    "    pars_and_vecs = {}\n",
    "    for i in range(0, len(pars)):\n",
    "        par = preprocessing(pars[i])\n",
    "        vec_par = doc_t_v(par)\n",
    "        pars_and_vecs[i] = [vec_par, pars[i]]\n",
    "    return pars_and_vecs"
   ]
  },
  {
   "cell_type": "code",
   "execution_count": 203,
   "metadata": {},
   "outputs": [],
   "source": [
    "q_vecs_d = get_d2v_vectors(questions)"
   ]
  },
  {
   "cell_type": "code",
   "execution_count": 204,
   "metadata": {
    "collapsed": true
   },
   "outputs": [],
   "source": [
    "a_vecs_d = get_d2v_vectors(answers)"
   ]
  },
  {
   "cell_type": "code",
   "execution_count": 253,
   "metadata": {
    "collapsed": true
   },
   "outputs": [],
   "source": [
    "def search_d2v(query):\n",
    "    global q_vecs_d\n",
    "    query = preprocessing(query)\n",
    "    vec = np.zeros(100)\n",
    "    vec = model_d.infer_vector(query)\n",
    "    doc2similar = {}\n",
    "    for i in range(0, len(q_vecs_d)):\n",
    "            doc2similar[i] = similarity (vec, q_vecs_d[i][0])\n",
    "    sorted_dict = sorted(doc2similar.items(), key=operator.itemgetter(1), reverse=True)\n",
    "    top = sorted_dict[:5]\n",
    "    return top\n",
    "    "
   ]
  },
  {
   "cell_type": "code",
   "execution_count": 286,
   "metadata": {},
   "outputs": [],
   "source": [
    "a=['saf', 'aewf']\n",
    "for idx, b in enumerate(a):\n",
    "    idx == top[4][0]"
   ]
  },
  {
   "cell_type": "markdown",
   "metadata": {},
   "source": [
    "### Checking"
   ]
  },
  {
   "cell_type": "code",
   "execution_count": 262,
   "metadata": {
    "collapsed": true
   },
   "outputs": [],
   "source": [
    "def search(query, search_method):\n",
    "    if search_method == 'word2vec':\n",
    "        search_result = search_w2v(query)\n",
    "    elif search_method == 'doc2vec':\n",
    "        search_result = search_d2v(query)\n",
    "    else:\n",
    "        raise TypeError('unsupported search method')\n",
    "    return search_result"
   ]
  },
  {
   "cell_type": "code",
   "execution_count": 296,
   "metadata": {},
   "outputs": [],
   "source": [
    "def check(method):\n",
    "    global questions\n",
    "    true = 0\n",
    "    for idx, question in tqdm(enumerate(questions)):\n",
    "        top = search(question, method)\n",
    "        for i in range(0, 5):\n",
    "            if idx == top[i][0]:\n",
    "                true += 1\n",
    "    check = true / len(questions)\n",
    "    return check"
   ]
  },
  {
   "cell_type": "code",
   "execution_count": 297,
   "metadata": {},
   "outputs": [
    {
     "data": {
      "application/vnd.jupyter.widget-view+json": {
       "model_id": "1c6d9e220bb94af2bb6a71591fe779c3",
       "version_major": 2,
       "version_minor": 0
      },
      "text/plain": [
       "A Jupyter Widget"
      ]
     },
     "metadata": {},
     "output_type": "display_data"
    }
   ],
   "source": [
    "a = check('doc2vec')"
   ]
  },
  {
   "cell_type": "code",
   "execution_count": 298,
   "metadata": {},
   "outputs": [
    {
     "data": {
      "text/plain": [
       "0.8157514450867052"
      ]
     },
     "execution_count": 298,
     "metadata": {},
     "output_type": "execute_result"
    }
   ],
   "source": [
    "a"
   ]
  },
  {
   "cell_type": "code",
   "execution_count": 319,
   "metadata": {},
   "outputs": [
    {
     "data": {
      "application/vnd.jupyter.widget-view+json": {
       "model_id": "6636233bc8b94b148f66d232988af78d",
       "version_major": 2,
       "version_minor": 0
      },
      "text/plain": [
       "A Jupyter Widget"
      ]
     },
     "metadata": {},
     "output_type": "display_data"
    }
   ],
   "source": [
    "b = check('word2vec')"
   ]
  },
  {
   "cell_type": "code",
   "execution_count": 320,
   "metadata": {},
   "outputs": [
    {
     "data": {
      "text/plain": [
       "1.0"
      ]
     },
     "execution_count": 320,
     "metadata": {},
     "output_type": "execute_result"
    }
   ],
   "source": [
    "b"
   ]
  }
 ],
 "metadata": {
  "kernelspec": {
   "display_name": "Python 3",
   "language": "python",
   "name": "python3"
  },
  "language_info": {
   "codemirror_mode": {
    "name": "ipython",
    "version": 3
   },
   "file_extension": ".py",
   "mimetype": "text/x-python",
   "name": "python",
   "nbconvert_exporter": "python",
   "pygments_lexer": "ipython3",
   "version": "3.6.2"
  }
 },
 "nbformat": 4,
 "nbformat_minor": 2
}
